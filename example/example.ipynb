{
 "cells": [
  {
   "cell_type": "code",
   "execution_count": 11,
   "metadata": {},
   "outputs": [],
   "source": [
    "import numpy as np\n",
    "\n",
    "from dwave.system import DWaveSampler, EmbeddingComposite\n",
    "\n",
    "from utils.utils import load_yaml\n",
    "# API TOKEN と endpointを用意\n",
    "credential_cfg = load_yaml(\"../config/d-wave_credential.yml\")\n",
    "token = credential_cfg[\"TOKEN\"]\n",
    "endpoint = credential_cfg[\"ENDPOINT\"]"
   ]
  },
  {
   "attachments": {},
   "cell_type": "markdown",
   "metadata": {},
   "source": [
    "### QUBO式\n",
    "$$\n",
    "H = \\sum_{j=1}^{N}\\sum_{i=1}^{N} x_{i}Q_{ij}x_{j}\n",
    "$$"
   ]
  },
  {
   "attachments": {},
   "cell_type": "markdown",
   "metadata": {},
   "source": [
    "乱数を使ってQUBO行列を作成"
   ]
  },
  {
   "cell_type": "code",
   "execution_count": 4,
   "metadata": {},
   "outputs": [
    {
     "data": {
      "text/plain": [
       "array([[ 0.20756061,  0.24931698,  1.02010678, -1.31910704, -0.57203512,\n",
       "        -1.17910938,  2.15316071,  0.28807123,  0.42002976, -0.06078729],\n",
       "       [ 0.57316424, -0.52815694,  0.80487646, -1.03134039,  1.89805154,\n",
       "        -0.36551491,  1.64609146, -0.45396334, -0.31725314,  0.19085589],\n",
       "       [ 1.11043668, -1.26061744, -0.72489152, -2.21068674,  0.1880199 ,\n",
       "        -0.19455324, -0.23852874,  1.13579386, -0.14194566,  2.30155376],\n",
       "       [ 1.48178604,  0.44811279,  0.09310866, -1.91307282,  0.55378807,\n",
       "        -1.81185847,  0.33897066, -0.78468031,  1.01871651,  0.7118606 ],\n",
       "       [ 0.01745649, -0.27104807, -0.34791202,  0.18431063, -0.95054084,\n",
       "         1.20820874,  0.58007414, -0.42359706,  1.09169724,  0.4636988 ],\n",
       "       [ 0.61027474,  1.77952357, -0.57088723,  0.66121662,  0.90828752,\n",
       "        -0.13073361,  0.12725967,  1.106206  ,  0.77379554, -2.0078628 ],\n",
       "       [ 0.07682646,  2.78512928,  0.5671138 , -1.53379843, -0.95050997,\n",
       "         0.41872685,  1.63047346,  1.56559064,  0.51375861,  0.33704948],\n",
       "       [-0.08865109, -1.05982007, -0.48808783,  0.01683339,  3.13684212,\n",
       "        -0.7047853 , -0.52405202,  0.657903  ,  0.18277495,  1.51936848],\n",
       "       [-2.37739695, -0.44347289,  1.08906167,  0.39600846,  0.02861766,\n",
       "        -1.52274659,  0.91597496, -0.11087915, -1.27261415,  0.08659595],\n",
       "       [-2.48906497, -0.28800804,  2.96313556, -0.85349556, -1.93165166,\n",
       "        -1.20141444, -0.1002905 ,  2.04982098, -0.92125381, -1.06425828]])"
      ]
     },
     "execution_count": 4,
     "metadata": {},
     "output_type": "execute_result"
    }
   ],
   "source": [
    "N = 10\n",
    "QUBO = np.random.randn(N**2).reshape(N,N)\n",
    "QUBO"
   ]
  },
  {
   "attachments": {},
   "cell_type": "markdown",
   "metadata": {},
   "source": [
    "samplerを定義し，量子ビットに変数を埋め込む"
   ]
  },
  {
   "cell_type": "code",
   "execution_count": 13,
   "metadata": {},
   "outputs": [],
   "source": [
    "dw_sampler = DWaveSampler(solver='Advantage_system4.1', token=token, endpoint=endpoint)\n",
    "sampler = EmbeddingComposite(dw_sampler)"
   ]
  },
  {
   "attachments": {},
   "cell_type": "markdown",
   "metadata": {},
   "source": [
    "計算"
   ]
  },
  {
   "cell_type": "code",
   "execution_count": 14,
   "metadata": {},
   "outputs": [],
   "source": [
    "sampleset = sampler.sample_qubo(QUBO, num_reads=10)"
   ]
  },
  {
   "cell_type": "code",
   "execution_count": 16,
   "metadata": {},
   "outputs": [
    {
     "name": "stdout",
     "output_type": "stream",
     "text": [
      "[([1, 0, 0, 1, 0, 1, 0, 0, 1, 1], -13.75693133, 4, 0.)\n",
      " ([1, 1, 0, 1, 0, 1, 0, 0, 1, 1], -13.48970416, 4, 0.)\n",
      " ([1, 0, 0, 1, 1, 1, 0, 0, 1, 1], -12.75509381, 2, 0.)]\n"
     ]
    }
   ],
   "source": [
    "# [xの答え, Cost関数の値, 出現回数, 量子ビットのコピーに失敗した確率]\n",
    "print(sampleset.record)"
   ]
  },
  {
   "cell_type": "code",
   "execution_count": null,
   "metadata": {},
   "outputs": [],
   "source": []
  }
 ],
 "metadata": {
  "kernelspec": {
   "display_name": "scheduling-problem-uleV7Duj-py3.10",
   "language": "python",
   "name": "python3"
  },
  "language_info": {
   "codemirror_mode": {
    "name": "ipython",
    "version": 3
   },
   "file_extension": ".py",
   "mimetype": "text/x-python",
   "name": "python",
   "nbconvert_exporter": "python",
   "pygments_lexer": "ipython3",
   "version": "3.10.8"
  },
  "orig_nbformat": 4
 },
 "nbformat": 4,
 "nbformat_minor": 2
}
